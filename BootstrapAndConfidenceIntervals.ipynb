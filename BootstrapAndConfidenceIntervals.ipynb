{
  "nbformat": 4,
  "nbformat_minor": 0,
  "metadata": {
    "colab": {
      "provenance": []
    },
    "kernelspec": {
      "name": "python3",
      "display_name": "Python 3"
    },
    "language_info": {
      "name": "python"
    }
  },
  "cells": [
    {
      "cell_type": "code",
      "execution_count": 1,
      "metadata": {
        "id": "9bqFawMr-L0Y"
      },
      "outputs": [],
      "source": [
        "import numpy as np\n",
        "import seaborn as sns\n",
        "import pandas as pd"
      ]
    },
    {
      "cell_type": "markdown",
      "source": [
        "### Контекст\n",
        "\n",
        "Блокнот и код в нём навеян статьей на хабре о примении бутсрапа в предсказании статистики генеральной совокупности, в условиях наличия на руках только ограниченной выборки https://habr.com/ru/articles/829336/\n",
        "\n",
        "**Коротко**: из выборки размера N извлекается большое число выборок с повторением размера N (бустрап-выборка) и N раз считается статистика по каждой бутстрап-выборке. Полученные статистики выстраиваются в персентили с учетом alpha (значимости). Реальное значение статистики по генеральной совокупности должно попасть в полученный коридор статистик по бутстрап-выборкам.\n",
        "\n",
        "**Что внутри**: В функции get_bootstrap_ci реализован алгоритм расчета правой и левой границы коридора. Для проверки использованы два набора данных: синтетический на основе пуассоновского распределения и реальный из датасета о недвижимости."
      ],
      "metadata": {
        "id": "z-pWld8PNsrU"
      }
    },
    {
      "cell_type": "markdown",
      "source": [
        "### Набора данных 1\n",
        "Искусственно созданный набор как сумма двух пуассоновских распределений"
      ],
      "metadata": {
        "id": "f_lqBROtadQV"
      }
    },
    {
      "cell_type": "code",
      "source": [
        "pois_distr1 = np.random.default_rng().poisson(lam=500., size=5000)\n",
        "pois_distr2 = np.random.default_rng().poisson(lam=410., size=2500) + np.ones(2500, dtype=int)*10\n",
        "pois_distr = np.concatenate((pois_distr1, pois_distr2), axis=0)\n",
        "sns.histplot(pois_distr, discrete=True)"
      ],
      "metadata": {
        "colab": {
          "base_uri": "https://localhost:8080/",
          "height": 447
        },
        "id": "1RMyA89r-PeM",
        "outputId": "e37606d1-c763-4e38-b987-55c2b4f8016d"
      },
      "execution_count": 4,
      "outputs": [
        {
          "output_type": "execute_result",
          "data": {
            "text/plain": [
              "<Axes: ylabel='Count'>"
            ]
          },
          "metadata": {},
          "execution_count": 4
        },
        {
          "output_type": "display_data",
          "data": {
            "text/plain": [
              "<Figure size 640x480 with 1 Axes>"
            ],
            "image/png": "[encoded data removed]"
          },
          "metadata": {}
        }
      ]
    },
    {
      "cell_type": "markdown",
      "source": [
        "### Набор данных 2\n",
        "Датасет с соревнования Kaggle - House Pricing https://www.kaggle.com/competitions/home-data-for-ml-course/data?select=test.csv\n",
        "\n",
        "Объединил обучающую и тестовую выборку, т.к. работать буду со столбцом предиктором LotArea, а не таргетом. У распредления длинный хвост в сторону максимальных значений"
      ],
      "metadata": {
        "id": "P3Ov_SHgaqfr"
      }
    },
    {
      "cell_type": "code",
      "source": [
        "train = pd.read_csv('/content/HousePricingTrain.csv')#, encoding='utf-16', index_col=[0])\n",
        "test = pd.read_csv('/content/HousePricingTest.csv')#, encoding='utf-16', index_col=[0])\n",
        "LotArea = pd.concat([train['LotArea'], test['LotArea']], ignore_index=True)"
      ],
      "metadata": {
        "id": "aQID-YL6atij"
      },
      "execution_count": 5,
      "outputs": []
    },
    {
      "cell_type": "code",
      "source": [
        "sns.histplot(LotArea, bins=200)"
      ],
      "metadata": {
        "colab": {
          "base_uri": "https://localhost:8080/",
          "height": 466
        },
        "id": "rlWf6QLbdKDC",
        "outputId": "9cf2c94f-ac26-42a0-c5f4-ecd37caed510"
      },
      "execution_count": 6,
      "outputs": [
        {
          "output_type": "execute_result",
          "data": {
            "text/plain": [
              "<Axes: xlabel='LotArea', ylabel='Count'>"
            ]
          },
          "metadata": {},
          "execution_count": 6
        },
        {
          "output_type": "display_data",
          "data": {
            "text/plain": [
              "<Figure size 640x480 with 1 Axes>"
            ],
            "image/png": "[encoded data removed]"
          },
          "metadata": {}
        }
      ]
    },
    {
      "cell_type": "markdown",
      "source": [
        "### Функция для подсчета статистики"
      ],
      "metadata": {
        "id": "0jTGd9lgiw_a"
      }
    },
    {
      "cell_type": "code",
      "source": [
        "def get_bootstrap_ci(\n",
        "        general_X: np.ndarray,\n",
        "        part_general: float,\n",
        "        func, #применяемая статистика\n",
        "        N: int = 10**3,\n",
        "        alpha: float = 0.05):\n",
        "\n",
        "    # Выборка из генеральной совокупности размера part_general\n",
        "    sampleSize = np.int32(np.ceil(general_X.size * part_general))\n",
        "    X = np.random.choice(a=general_X, size=sampleSize, replace=False)\n",
        "\n",
        "    # Создание бустрап-выборок\n",
        "    n = X.size\n",
        "    bootstrap_samples = np.random.choice(a=X, size=(N, n), replace=True) # 1000 выборок разрмера n\n",
        "    theta_hat_star = func(bootstrap_samples, axis=1)\n",
        "\n",
        "    theta_hat = func(X)\n",
        "    se_theta_hat = np.std(X, ddof=1) / np.sqrt(n) #стандартная ошибка по исходной выборке\n",
        "    se_theta_hat_star = np.std(bootstrap_samples, axis=1, ddof=1) / np.sqrt(n) #стандартные ошибки по бустрап-выборкам\n",
        "\n",
        "    theta_hat_star = (theta_hat_star - theta_hat) / se_theta_hat_star #центрированные стандартные ошибки\n",
        "\n",
        "    left, right, median = np.quantile(theta_hat_star, (1 - alpha / 2, alpha / 2, 0.5))\n",
        "\n",
        "    return (func(general_X),\n",
        "            theta_hat,\n",
        "            theta_hat - se_theta_hat * left,\n",
        "            theta_hat - se_theta_hat * right,\n",
        "            theta_hat - se_theta_hat * median\n",
        "           )"
      ],
      "metadata": {
        "id": "K82WZkXITqFT"
      },
      "execution_count": 7,
      "outputs": []
    },
    {
      "cell_type": "markdown",
      "source": [
        "### Применение к искусственным данным\n",
        "Практически полное совпадение статистик. Это было ожидаемо - распредление довольно \"скучковано\" вокург его среднего"
      ],
      "metadata": {
        "id": "WAcwhFhmKD5I"
      }
    },
    {
      "cell_type": "code",
      "source": [
        "general_stat, sample_stat, left, right, median = get_bootstrap_ci(\n",
        "                 general_X=pois_distr,\n",
        "                 part_general=0.75,\n",
        "                 func=np.mean,\n",
        "                 N=1000,\n",
        "                 alpha=0.01)\n",
        "print(f'Вычисленная функция по генеральной совокупности: {general_stat} \\nВычисленная функция по выборке: {sample_stat} \\nЛевая и правая граница по бустрап-выборкам: {left}-{right} \\nМедина функции по бутстрап-выборке {median}')"
      ],
      "metadata": {
        "colab": {
          "base_uri": "https://localhost:8080/"
        },
        "id": "uuoyCCn5M4ej",
        "outputId": "468a67d0-6f9c-403e-8254-10f671f952a4"
      },
      "execution_count": 43,
      "outputs": [
        {
          "output_type": "stream",
          "name": "stdout",
          "text": [
            "Вычисленная функция по генеральной совокупности: 473.06826666666666 \n",
            "Вычисленная функция по выборке: 473.38826666666665 \n",
            "Левая и правая граница по бустрап-выборкам: 471.9356614973077-474.8391939146583 \n",
            "Медина функции по бутстрап-выборке 473.39912013215064\n"
          ]
        }
      ]
    },
    {
      "cell_type": "markdown",
      "source": [
        "###Применение к реальным данным с большим хвостом"
      ],
      "metadata": {
        "id": "8u9mfv61KHgV"
      }
    },
    {
      "cell_type": "markdown",
      "source": [
        "Возьму исходные данные\n",
        "\n",
        "1. Очевидным образом при part_general -> 1 вычисленные статиститки почти совпадают;\n",
        "2. А вот увеличение N может давать случайные результаты (как в лучшую, так и в худшую сторону)"
      ],
      "metadata": {
        "id": "6mPSiBGCKOhX"
      }
    },
    {
      "cell_type": "code",
      "source": [
        "general_stat, sample_stat, left, right, median = get_bootstrap_ci(\n",
        "                 general_X=LotArea,\n",
        "                 part_general=0.75,\n",
        "                 func=np.mean,\n",
        "                 N=1000,\n",
        "                 alpha=0.01)\n",
        "print(f'Вычисленная функция по генеральной совокупности: {general_stat} \\nВычисленная функция по выборке: {sample_stat} \\nЛевая и правая граница по бустрап-выборкам: {left}-{right} \\nМедина функции по бутстрап-выборке {median}')"
      ],
      "metadata": {
        "colab": {
          "base_uri": "https://localhost:8080/"
        },
        "id": "1Ao1MW2qQtzf",
        "outputId": "ddcfe025-acd3-401a-b152-b07dc1630792"
      },
      "execution_count": 26,
      "outputs": [
        {
          "output_type": "stream",
          "name": "stdout",
          "text": [
            "Вычисленная функция по генеральной совокупности: 10168.11408016444 \n",
            "Вычисленная функция по выборке: 10272.053424657533 \n",
            "Левая и правая граница по бустрап-выборкам: 9900.415546569788-10923.709048963086 \n",
            "Медина функции по бутстрап-выборке 10293.575020112132\n"
          ]
        }
      ]
    },
    {
      "cell_type": "markdown",
      "source": [
        "Откажусь от хвоста и сделаю данные более однозначно распредленными"
      ],
      "metadata": {
        "id": "zrMPw09VLaVA"
      }
    },
    {
      "cell_type": "code",
      "source": [
        "sns.histplot(LotArea[LotArea < 20000], bins=100)"
      ],
      "metadata": {
        "colab": {
          "base_uri": "https://localhost:8080/",
          "height": 466
        },
        "id": "RZC4syM8Lfre",
        "outputId": "4c016d1c-36ad-454e-91b1-d72e9f3251fd"
      },
      "execution_count": 31,
      "outputs": [
        {
          "output_type": "execute_result",
          "data": {
            "text/plain": [
              "<Axes: xlabel='LotArea', ylabel='Count'>"
            ]
          },
          "metadata": {},
          "execution_count": 31
        },
        {
          "output_type": "display_data",
          "data": {
            "text/plain": [
              "<Figure size 640x480 with 1 Axes>"
            ],
            "image/png": "[encoded data removed]"
          },
          "metadata": {}
        }
      ]
    },
    {
      "cell_type": "markdown",
      "source": [
        "При ограничении выборки и приведения распредления к более плотному, статистика стала ближе"
      ],
      "metadata": {
        "id": "wx1QVCAUP7dJ"
      }
    },
    {
      "cell_type": "code",
      "source": [
        "general_stat, sample_stat, left, right, median = get_bootstrap_ci(\n",
        "                 general_X=LotArea[LotArea < 20000],\n",
        "                 part_general=0.75,\n",
        "                 func=np.mean,\n",
        "                 N=1000,\n",
        "                 alpha=0.01)\n",
        "print(f'Вычисленная функция по генеральной совокупности: {general_stat} \\nВычисленная функция по выборке: {sample_stat} \\nЛевая и правая граница по бустрап-выборкам: {left}-{right} \\nМедина функции по бутстрап-выборке {median}')"
      ],
      "metadata": {
        "colab": {
          "base_uri": "https://localhost:8080/"
        },
        "id": "Ir8lSCmGeu7f",
        "outputId": "8af7c4a9-38e9-43a3-cbff-7701a3071624"
      },
      "execution_count": 32,
      "outputs": [
        {
          "output_type": "stream",
          "name": "stdout",
          "text": [
            "Вычисленная функция по генеральной совокупности: 9327.6414427157 \n",
            "Вычисленная функция по выборке: 9362.686468646865 \n",
            "Левая и правая граница по бустрап-выборкам: 9181.693377990992-9547.974489618175 \n",
            "Медина функции по бутстрап-выборке 9363.609449447631\n"
          ]
        }
      ]
    },
    {
      "cell_type": "markdown",
      "source": [
        "### Попробую взять совсем незначительные выборки в 25% от исходных генеральных совокупностей"
      ],
      "metadata": {
        "id": "uMArBP0kL5QO"
      }
    },
    {
      "cell_type": "code",
      "source": [
        "general_stat, sample_stat, left, right, median = get_bootstrap_ci(\n",
        "                 general_X=LotArea,\n",
        "                 part_general=0.25,\n",
        "                 func=np.mean,\n",
        "                 N=1000,\n",
        "                 alpha=0.01)\n",
        "print(f'Вычисленная функция по генеральной совокупности: {general_stat} \\nВычисленная функция по выборке: {sample_stat} \\nЛевая и правая граница по бустрап-выборкам: {left}-{right} \\nМедина функции по бутстрап-выборке {median}')"
      ],
      "metadata": {
        "colab": {
          "base_uri": "https://localhost:8080/"
        },
        "id": "3CWfHdvIgWJf",
        "outputId": "4fc10451-6a9f-4ce7-b86e-c8253a96aa25"
      },
      "execution_count": 45,
      "outputs": [
        {
          "output_type": "stream",
          "name": "stdout",
          "text": [
            "Вычисленная функция по генеральной совокупности: 10168.11408016444 \n",
            "Вычисленная функция по выборке: 10045.886301369863 \n",
            "Левая и правая граница по бустрап-выборкам: 9469.578719129178-11068.810795309279 \n",
            "Медина функции по бутстрап-выборке 10072.443705830203\n"
          ]
        }
      ]
    },
    {
      "cell_type": "code",
      "source": [
        "general_stat, sample_stat, left, right, median = get_bootstrap_ci(\n",
        "                 general_X=pois_distr,\n",
        "                 part_general=0.25,\n",
        "                 func=np.mean,\n",
        "                 N=1000,\n",
        "                 alpha=0.01)\n",
        "print(f'Вычисленная функция по генеральной совокупности: {general_stat} \\nВычисленная функция по выборке: {sample_stat} \\nЛевая и правая граница по бустрап-выборкам: {left}-{right} \\nМедина функции по бутстрап-выборке {median}')"
      ],
      "metadata": {
        "colab": {
          "base_uri": "https://localhost:8080/"
        },
        "id": "D_K8i16UL-h2",
        "outputId": "0708abf8-ed7b-4ece-c6ea-22ab95ab69b4"
      },
      "execution_count": 46,
      "outputs": [
        {
          "output_type": "stream",
          "name": "stdout",
          "text": [
            "Вычисленная функция по генеральной совокупности: 473.06826666666666 \n",
            "Вычисленная функция по выборке: 473.51306666666665 \n",
            "Левая и правая граница по бустрап-выборкам: 470.9652716595889-475.92913247891465 \n",
            "Медина функции по бутстрап-выборке 473.51229832470597\n"
          ]
        }
      ]
    },
    {
      "cell_type": "markdown",
      "source": [
        "### Наблюдения\n",
        "а) Разные значения part_general и N по бутстрапу не приближают вычисленную статистику по выборке к значению этой статистики по генеральной совокупности (за редкими кейсами)\n",
        "\n",
        "В общем то можно было ожидать - любое сэмплирование будет отсекать крайние (наибольшие и наименьшие) значения из ген.совокупности\n",
        "\n",
        "б) Зато доверительные интервалы, вычисленные по alpha всегда точно определяют коридор значений для генеральной совокупности\n",
        "\n",
        "Кажется именно в этом и кроется наибольшая практическая заничмость метода"
      ],
      "metadata": {
        "id": "eINrBXV5MKK_"
      }
    },
    {
      "cell_type": "code",
      "source": [],
      "metadata": {
        "id": "iUhRw3i_MHui"
      },
      "execution_count": 42,
      "outputs": []
    }
  ]
}